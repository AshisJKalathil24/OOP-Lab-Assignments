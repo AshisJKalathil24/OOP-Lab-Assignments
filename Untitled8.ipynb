{
  "nbformat": 4,
  "nbformat_minor": 0,
  "metadata": {
    "colab": {
      "name": "Untitled8.ipynb",
      "provenance": [],
      "collapsed_sections": [],
      "authorship_tag": "ABX9TyNjGANDaVR2/WY1wKBAVMKC",
      "include_colab_link": true
    },
    "kernelspec": {
      "name": "python3",
      "display_name": "Python 3"
    },
    "language_info": {
      "name": "python"
    }
  },
  "cells": [
    {
      "cell_type": "markdown",
      "metadata": {
        "id": "view-in-github",
        "colab_type": "text"
      },
      "source": [
        "<a href=\"https://colab.research.google.com/github/AshisJKalathil24/OOP-Lab-Assignments/blob/oop-1/Untitled8.ipynb\" target=\"_parent\"><img src=\"https://colab.research.google.com/assets/colab-badge.svg\" alt=\"Open In Colab\"/></a>"
      ]
    },
    {
      "cell_type": "markdown",
      "metadata": {
        "id": "NzqL-hCR0Hjj"
      },
      "source": [
        "Ashis J Kalathil\n",
        "20bcs022\n",
        "\n",
        "OOP LAB ASSIGNMENT 3\n",
        "\n",
        "Problem - I\n",
        "\n",
        "Write a python program to demonstrate the inheritance principle of OOP. Create a Student class that includes student’s basic information : Name, Reg no, Age, Gender, Branch, Sem. Define functions to read and display basic information. Create a new class StudentResultInfo that inherits from Student class. Derived class will include student’s total marks, percentage and grade. Display student’s basic information and result information using derived class."
      ]
    },
    {
      "cell_type": "code",
      "metadata": {
        "colab": {
          "base_uri": "https://localhost:8080/"
        },
        "id": "5I9ydUfV0Eg3",
        "outputId": "f0e1de65-0aab-4bc4-93db-424e472b5ee1"
      },
      "source": [
        "class Student:\n",
        "  def __init__(self):\n",
        "    self.name = input(\"Enter name : \")\n",
        "    self.regno = int(input(\"Enter registration number : \"))\n",
        "    self.gender = input(\"Gender : \")\n",
        "    self.branch = input(\"Enter your branch : \")\n",
        "    self.sem = input(\"Enter your semester : \")\n",
        "  def dispbasic(self):\n",
        "    print(\"\\n Name :\", self.name, \"\\n Registration Number :\", self.regno, \"\\n Gender :\", self.gender, \"\\n Branch :\", self.branch, \"\\n Semester :\", self.sem)\n",
        "class StudentResultInfo(Student):\n",
        "  def __init__(self):\n",
        "    Student.__init__(self)\n",
        "    self.totmarks = input(\"Enter total marks : \")\n",
        "    self.percent = int(input(\"Enter the percentage : \"))\n",
        "    self.grade = input(\"Enter the grade : \")\n",
        "  def disp(self):\n",
        "    self.dispbasic()\n",
        "    print(\"\\n Total Marks :\", self.totmarks, \"\\n Percentage :\", self.percent, \"\\n Grade :\", self.grade)\n",
        "s = StudentResultInfo()\n",
        "s.disp()"
      ],
      "execution_count": 2,
      "outputs": [
        {
          "output_type": "stream",
          "name": "stdout",
          "text": [
            "Enter name : Ashis\n",
            "Enter registration number : 123\n",
            "Gender : male\n",
            "Enter your branch : cse\n",
            "Enter your semester : 3\n",
            "Enter total marks : 273\n",
            "Enter the percentage : 98\n",
            "Enter the grade : A\n",
            "\n",
            " Name : Ashis \n",
            " Registration Number : 123 \n",
            " Gender : male \n",
            " Branch : cse \n",
            " Semester : 3\n",
            "\n",
            " Total Marks : 273 \n",
            " Percentage : 98 \n",
            " Grade : A\n"
          ]
        }
      ]
    },
    {
      "cell_type": "markdown",
      "metadata": {
        "id": "mShL7Bn404-I"
      },
      "source": [
        "Problem -II\n",
        "\n",
        "Imagine you are writing a Content Management system - this system will store two types of documents:\n",
        "\n",
        "PDFs (who created, description, file size)\n",
        "Pictures (who created, description, image dimensions, file size)\n",
        "Imagine you are now asked to add a few features:\n",
        "\n",
        "Checking to see whether the file size is beyond a certain threshold\n",
        "Display the details of document\n",
        "Checking to see whether it's too high of dimension of picture\n",
        "Note: use inheritance concept to reduce length of code"
      ]
    },
    {
      "cell_type": "code",
      "metadata": {
        "colab": {
          "base_uri": "https://localhost:8080/",
          "height": 232
        },
        "id": "YLYh2SKC1Q6B",
        "outputId": "01e5b5d5-c494-4c0a-9bb9-aea1293aadb2"
      },
      "source": [
        "class pdf(features):\n",
        "  def __init__(self):\n",
        "    self.creator = input(\"Enter who created : \")\n",
        "    self.descr = input(\"Enter description : \")\n",
        "    self.size = int(input(\"Enter file size(in KB) = \"))\n",
        "class pic(pdf):\n",
        "  def __init__(self):\n",
        "    pdf.__init__(self)\n",
        "    self.l = int(input(\"Enter image length(in inches) : \"))\n",
        "    self.w = int(input(\"Enter image width(in inches) : \"))\n",
        "class features(pic):\n",
        "  def thresholdsize(self):\n",
        "    if self.size > 10000:\n",
        "      print(\"File size is too large !\")\n",
        "    else:\n",
        "      print(\"File size is within threshold\")\n",
        "  def dispdet(self):\n",
        "    print(\" Created by :\", self.creator, \"\\n Description :\", self.descr, \"\\n File size :\", self.size)\n",
        "    try:\n",
        "      print(\"Image Dimension :\", self.dim)\n",
        "    except:\n",
        "      pass\n",
        "  def thresholddim(self):\n",
        "    if self.l>12 and self.w>18:\n",
        "      print(\"Image Dimension is too high !\")\n",
        "    else:\n",
        "      print(\"Image Dimension is within threshold\")\n",
        "p = pdf()\n",
        "p.thresholdsize()\n",
        "p.dispdet()\n",
        "i = pic()\n",
        "i.thresholdsize()\n",
        "i.dispdet()\n",
        "i.thresholddim()"
      ],
      "execution_count": 8,
      "outputs": [
        {
          "output_type": "error",
          "ename": "NameError",
          "evalue": "ignored",
          "traceback": [
            "\u001b[0;31m---------------------------------------------------------------------------\u001b[0m",
            "\u001b[0;31mNameError\u001b[0m                                 Traceback (most recent call last)",
            "\u001b[0;32m<ipython-input-8-7b5a16262069>\u001b[0m in \u001b[0;36m<module>\u001b[0;34m()\u001b[0m\n\u001b[0;32m----> 1\u001b[0;31m \u001b[0;32mclass\u001b[0m \u001b[0mpdf\u001b[0m\u001b[0;34m(\u001b[0m\u001b[0mfeatures\u001b[0m\u001b[0;34m)\u001b[0m\u001b[0;34m:\u001b[0m\u001b[0;34m\u001b[0m\u001b[0;34m\u001b[0m\u001b[0m\n\u001b[0m\u001b[1;32m      2\u001b[0m   \u001b[0;32mdef\u001b[0m \u001b[0m__init__\u001b[0m\u001b[0;34m(\u001b[0m\u001b[0mself\u001b[0m\u001b[0;34m)\u001b[0m\u001b[0;34m:\u001b[0m\u001b[0;34m\u001b[0m\u001b[0;34m\u001b[0m\u001b[0m\n\u001b[1;32m      3\u001b[0m     \u001b[0mself\u001b[0m\u001b[0;34m.\u001b[0m\u001b[0mcreator\u001b[0m \u001b[0;34m=\u001b[0m \u001b[0minput\u001b[0m\u001b[0;34m(\u001b[0m\u001b[0;34m\"Enter who created : \"\u001b[0m\u001b[0;34m)\u001b[0m\u001b[0;34m\u001b[0m\u001b[0;34m\u001b[0m\u001b[0m\n\u001b[1;32m      4\u001b[0m     \u001b[0mself\u001b[0m\u001b[0;34m.\u001b[0m\u001b[0mdescr\u001b[0m \u001b[0;34m=\u001b[0m \u001b[0minput\u001b[0m\u001b[0;34m(\u001b[0m\u001b[0;34m\"Enter description : \"\u001b[0m\u001b[0;34m)\u001b[0m\u001b[0;34m\u001b[0m\u001b[0;34m\u001b[0m\u001b[0m\n\u001b[1;32m      5\u001b[0m     \u001b[0mself\u001b[0m\u001b[0;34m.\u001b[0m\u001b[0msize\u001b[0m \u001b[0;34m=\u001b[0m \u001b[0mint\u001b[0m\u001b[0;34m(\u001b[0m\u001b[0minput\u001b[0m\u001b[0;34m(\u001b[0m\u001b[0;34m\"Enter file size(in KB) = \"\u001b[0m\u001b[0;34m)\u001b[0m\u001b[0;34m)\u001b[0m\u001b[0;34m\u001b[0m\u001b[0;34m\u001b[0m\u001b[0m\n",
            "\u001b[0;31mNameError\u001b[0m: name 'features' is not defined"
          ]
        }
      ]
    },
    {
      "cell_type": "markdown",
      "metadata": {
        "id": "LZmCXkHB1nxW"
      },
      "source": [
        "Problem - III\n",
        "\n",
        "Create vehicle class with data members name, mileage and capacity and member function bus fare. Create a Bus child class that inherits from the Vehicle class. The default fare charge of any vehicle is seating capacity * 100. If Vehicle is Bus instance, we need to add an extra 10% on full fare as a maintenance charge. So total fare for bus instance will become the final amount = total fare + 10% of the total fare.\n",
        "\n",
        "Note: The bus seating capacity is 50.\n",
        "\n"
      ]
    },
    {
      "cell_type": "code",
      "metadata": {
        "colab": {
          "base_uri": "https://localhost:8080/"
        },
        "id": "Qwy6097J1sVm",
        "outputId": "af00d81a-4437-4336-bee5-7fbd8cfceaca"
      },
      "source": [
        "class Vehicle:\n",
        "  def __init__(self):\n",
        "    self.name = input(\"Enter name : \")\n",
        "    self.mileage = input(\"Enter mileage : \")\n",
        "    self.capacity = int(input(\"Enter seating capacity : \"))\n",
        "  def vehfare(self):\n",
        "    self.fare = self.capacity * 100\n",
        "    print(\"Fare :\",self.fare)\n",
        "class Bus(Vehicle):\n",
        "  def __init__(self):\n",
        "    Vehicle.__init__(self)\n",
        "  def busfare(self):\n",
        "    Vehicle.vehfare(self)\n",
        "    self.maintcharge = self.fare * 10/100\n",
        "    self.totfare = self.fare + self.maintcharge\n",
        "    print(\"Total fare :\", self.totfare)\n",
        "bus1 = Bus()\n",
        "bus1.busfare()\n",
        "auto = Vehicle()\n",
        "auto.vehfare()"
      ],
      "execution_count": 10,
      "outputs": [
        {
          "output_type": "stream",
          "name": "stdout",
          "text": [
            "Enter name : Fortuner\n",
            "Enter mileage : 8\n",
            "Enter seating capacity : 7\n",
            "Fare : 700\n",
            "Total fare : 770.0\n",
            "Enter name : baleno\n",
            "Enter mileage : 20\n",
            "Enter seating capacity : 5\n",
            "Fare : 500\n"
          ]
        }
      ]
    },
    {
      "cell_type": "markdown",
      "metadata": {
        "id": "VTqH6Hsn09r2"
      },
      "source": [
        ""
      ]
    }
  ]
}