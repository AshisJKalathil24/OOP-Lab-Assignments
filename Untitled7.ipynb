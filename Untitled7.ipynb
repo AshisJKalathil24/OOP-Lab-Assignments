{
  "nbformat": 4,
  "nbformat_minor": 0,
  "metadata": {
    "colab": {
      "name": "Untitled7.ipynb",
      "provenance": [],
      "collapsed_sections": [],
      "authorship_tag": "ABX9TyMQDOVQ9ZkCBYkiL6ueCQJY",
      "include_colab_link": true
    },
    "kernelspec": {
      "name": "python3",
      "display_name": "Python 3"
    },
    "language_info": {
      "name": "python"
    }
  },
  "cells": [
    {
      "cell_type": "markdown",
      "metadata": {
        "id": "view-in-github",
        "colab_type": "text"
      },
      "source": [
        "<a href=\"https://colab.research.google.com/github/AshisJKalathil24/OOP-Lab-Assignments/blob/oop-1/Untitled7.ipynb\" target=\"_parent\"><img src=\"https://colab.research.google.com/assets/colab-badge.svg\" alt=\"Open In Colab\"/></a>"
      ]
    },
    {
      "cell_type": "markdown",
      "metadata": {
        "id": "5QbJsQ4FMjpo"
      },
      "source": [
        "Ashis J Kalathil\n",
        "\n",
        "20bcs002\n",
        "\n",
        "lab Assignment 2"
      ]
    },
    {
      "cell_type": "markdown",
      "metadata": {
        "id": "l8xZ7l0HKfAk"
      },
      "source": [
        "1) Create a python class circle, constructed by a radius and two methods that will compute the area and the perimeter of a circle"
      ]
    },
    {
      "cell_type": "code",
      "metadata": {
        "colab": {
          "base_uri": "https://localhost:8080/"
        },
        "id": "D2e6PJisKUKE",
        "outputId": "03cbe292-f18f-40ee-c25e-42a12b566b44"
      },
      "source": [
        "from math import pi\n",
        "class circle:\n",
        "    def __init__ (self):\n",
        "        self.radius = int(input(\"Enter the radius of circle :\"))\n",
        "    def area_of_circle(self):\n",
        "        return pi * (self.radius)**2\n",
        "    def perimeter_of_circle(self):\n",
        "        return 2 * pi * self.radius\n",
        "c = circle()\n",
        "print( 'area of circle : ', c.area_of_circle(), '\\nperimeter of circle : '  , c.perimeter_of_circle())\n"
      ],
      "execution_count": 6,
      "outputs": [
        {
          "output_type": "stream",
          "name": "stdout",
          "text": [
            "Enter the radius of circle :5\n",
            "area of circle :  78.53981633974483 \n",
            "perimeter of circle :  31.41592653589793\n"
          ]
        }
      ]
    },
    {
      "cell_type": "markdown",
      "metadata": {
        "id": "QALmKQIFM1da"
      },
      "source": [
        "2) Write a python program to enter the data of a 5 teaching faculty and display it (Data of a Faculty: Name, Emp ID, Branch, Salary)"
      ]
    },
    {
      "cell_type": "code",
      "metadata": {
        "id": "nxQM5PBax-GE",
        "colab": {
          "base_uri": "https://localhost:8080/"
        },
        "outputId": "953827cd-d4ab-44c6-c3de-0a6f7f52947e"
      },
      "source": [
        "class Faculty:\n",
        "  def __init__(self, empid):\n",
        "    self.name = input(\"Enter name : \")\n",
        "    self.empid = empid\n",
        "    self.branch = input(\"Enter branch : \")\n",
        "    self.salary = int(input(\"Enter salary : \"))\n",
        "  def display(self):\n",
        "    print(\"\\n Name :\", self.name, \"\\n Employee ID :\", self.empid, \"\\n Branch :\", self.branch, \"\\n Salary :\", self.salary)\n",
        "empids = []\n",
        "for i in range(0,5):\n",
        "  empid = input(\"Enter Employee ID : \")\n",
        "  empid = Faculty(empid)\n",
        "  empids.append(empid)\n",
        "for i in empids:\n",
        "  i.display()"
      ],
      "execution_count": 9,
      "outputs": [
        {
          "output_type": "stream",
          "name": "stdout",
          "text": [
            "Enter Employee ID : 1\n",
            "Enter name : Ashis\n",
            "Enter branch : cse\n",
            "Enter salary : 100000\n",
            "Enter Employee ID : 2\n",
            "Enter name : Varun\n",
            "Enter branch : ece\n",
            "Enter salary : 70000\n",
            "Enter Employee ID : 3\n",
            "Enter name : Sheethal\n",
            "Enter branch : DSAI\n",
            "Enter salary : 110000\n",
            "Enter Employee ID : 4\n",
            "Enter name : Neha\n",
            "Enter branch : cse\n",
            "Enter salary : 100000\n",
            "Enter Employee ID : 5\n",
            "Enter name : Arun\n",
            "Enter branch : ece\n",
            "Enter salary : 120000\n",
            "\n",
            " Name : Ashis \n",
            " Employee ID : 1 \n",
            " Branch : cse \n",
            " Salary : 100000\n",
            "\n",
            " Name : Varun \n",
            " Employee ID : 2 \n",
            " Branch : ece \n",
            " Salary : 70000\n",
            "\n",
            " Name : Sheethal \n",
            " Employee ID : 3 \n",
            " Branch : DSAI \n",
            " Salary : 110000\n",
            "\n",
            " Name : Neha \n",
            " Employee ID : 4 \n",
            " Branch : cse \n",
            " Salary : 100000\n",
            "\n",
            " Name : Arun \n",
            " Employee ID : 5 \n",
            " Branch : ece \n",
            " Salary : 120000\n"
          ]
        }
      ]
    },
    {
      "cell_type": "markdown",
      "metadata": {
        "id": "sbyKr34fUp3J"
      },
      "source": [
        "3) Write a python program to demonstrate the working of the banking system\n",
        "Create account class with data members (Account No, Account holder name, Amount)\n",
        "Create constructor to initialize data members\n",
        "Create member functions (Deposit, withdraw, check balance, and display account details)"
      ]
    },
    {
      "cell_type": "code",
      "metadata": {
        "colab": {
          "base_uri": "https://localhost:8080/",
          "height": 545
        },
        "id": "EPdOXnzRzCeH",
        "outputId": "4863dd8b-4b03-41bd-a55b-511a84823ac5"
      },
      "source": [
        "class account:\n",
        "  def __init__(self):\n",
        "    self.accountno = 8547\n",
        "    self.name = \"Ashis\"\n",
        "    self.amt = 0\n",
        "  def Deposit(self):\n",
        "    print(self.accountno)\n",
        "    self.amt = self.amt + int(input(\"Amount to deposit : \"))\n",
        "    print(\"Deposited\")\n",
        "  def Withdraw(self):\n",
        "    a = int(input(\"Amount to withdraw : \"))\n",
        "    if a<=self.amt:\n",
        "      self.amt = self.amt - a\n",
        "      print(\"Withdrawn successfully\\n\")\n",
        "      print(\"your remaining balance is : \",self.amt)\n",
        "    else:\n",
        "      print(\"Insufficient balance! Withdraw unsuccessful\")\n",
        "  def Check_Balance(self):\n",
        "    print(\"Balance =\",self.amt)\n",
        "  def Account_Details(self):\n",
        "    print(\"Account no. :\", self.accno, \"\\tAccount holder name :\", self.name, \"\\tBalance available :\", self.amt)\n",
        "client = account()\n",
        "def menu():\n",
        "  print(\" 1.Deposit\\t 2.Withdraw\\t 3.Check Balance\\t 4.View Account Details\")\n",
        "  c = int(input(\"Enter your choice :\"))\n",
        "  if c==1:\n",
        "    client.Deposit()\n",
        "  elif c==2:\n",
        "    client.Withdraw()\n",
        "  elif c==3:\n",
        "    client.Check_Balance()\n",
        "  elif c==4:\n",
        "    client.Account_Details()\n",
        "  else:\n",
        "    print(\"Invalid input!\")\n",
        "    menu()\n",
        "  c = int(input(\"Do you want to go to main menu?\\t 1. Yes\\t 2. No\\t Enter your choice : \"))\n",
        "  if c==1:\n",
        "    menu()\n",
        "  elif c==2:\n",
        "    print(\"Thank You\")\n",
        "  else:\n",
        "    print(\"Invalid Choice! ...\")\n",
        "menu()"
      ],
      "execution_count": 13,
      "outputs": [
        {
          "metadata": {
            "tags": null
          },
          "name": "stdout",
          "output_type": "stream",
          "text": [
            " 1.Deposit\t 2.Withdraw\t 3.Check Balance\t 4.View Account Details\n"
          ]
        },
        {
          "output_type": "error",
          "ename": "KeyboardInterrupt",
          "evalue": "ignored",
          "traceback": [
            "\u001b[0;31m---------------------------------------------------------------------------\u001b[0m",
            "\u001b[0;31mKeyboardInterrupt\u001b[0m                         Traceback (most recent call last)",
            "\u001b[0;32m/usr/local/lib/python3.7/dist-packages/ipykernel/kernelbase.py\u001b[0m in \u001b[0;36m_input_request\u001b[0;34m(self, prompt, ident, parent, password)\u001b[0m\n\u001b[1;32m    728\u001b[0m             \u001b[0;32mtry\u001b[0m\u001b[0;34m:\u001b[0m\u001b[0;34m\u001b[0m\u001b[0;34m\u001b[0m\u001b[0m\n\u001b[0;32m--> 729\u001b[0;31m                 \u001b[0mident\u001b[0m\u001b[0;34m,\u001b[0m \u001b[0mreply\u001b[0m \u001b[0;34m=\u001b[0m \u001b[0mself\u001b[0m\u001b[0;34m.\u001b[0m\u001b[0msession\u001b[0m\u001b[0;34m.\u001b[0m\u001b[0mrecv\u001b[0m\u001b[0;34m(\u001b[0m\u001b[0mself\u001b[0m\u001b[0;34m.\u001b[0m\u001b[0mstdin_socket\u001b[0m\u001b[0;34m,\u001b[0m \u001b[0;36m0\u001b[0m\u001b[0;34m)\u001b[0m\u001b[0;34m\u001b[0m\u001b[0;34m\u001b[0m\u001b[0m\n\u001b[0m\u001b[1;32m    730\u001b[0m             \u001b[0;32mexcept\u001b[0m \u001b[0mException\u001b[0m\u001b[0;34m:\u001b[0m\u001b[0;34m\u001b[0m\u001b[0;34m\u001b[0m\u001b[0m\n",
            "\u001b[0;32m/usr/local/lib/python3.7/dist-packages/jupyter_client/session.py\u001b[0m in \u001b[0;36mrecv\u001b[0;34m(self, socket, mode, content, copy)\u001b[0m\n\u001b[1;32m    802\u001b[0m         \u001b[0;32mtry\u001b[0m\u001b[0;34m:\u001b[0m\u001b[0;34m\u001b[0m\u001b[0;34m\u001b[0m\u001b[0m\n\u001b[0;32m--> 803\u001b[0;31m             \u001b[0mmsg_list\u001b[0m \u001b[0;34m=\u001b[0m \u001b[0msocket\u001b[0m\u001b[0;34m.\u001b[0m\u001b[0mrecv_multipart\u001b[0m\u001b[0;34m(\u001b[0m\u001b[0mmode\u001b[0m\u001b[0;34m,\u001b[0m \u001b[0mcopy\u001b[0m\u001b[0;34m=\u001b[0m\u001b[0mcopy\u001b[0m\u001b[0;34m)\u001b[0m\u001b[0;34m\u001b[0m\u001b[0;34m\u001b[0m\u001b[0m\n\u001b[0m\u001b[1;32m    804\u001b[0m         \u001b[0;32mexcept\u001b[0m \u001b[0mzmq\u001b[0m\u001b[0;34m.\u001b[0m\u001b[0mZMQError\u001b[0m \u001b[0;32mas\u001b[0m \u001b[0me\u001b[0m\u001b[0;34m:\u001b[0m\u001b[0;34m\u001b[0m\u001b[0;34m\u001b[0m\u001b[0m\n",
            "\u001b[0;32m/usr/local/lib/python3.7/dist-packages/zmq/sugar/socket.py\u001b[0m in \u001b[0;36mrecv_multipart\u001b[0;34m(self, flags, copy, track)\u001b[0m\n\u001b[1;32m    618\u001b[0m         \"\"\"\n\u001b[0;32m--> 619\u001b[0;31m         \u001b[0mparts\u001b[0m \u001b[0;34m=\u001b[0m \u001b[0;34m[\u001b[0m\u001b[0mself\u001b[0m\u001b[0;34m.\u001b[0m\u001b[0mrecv\u001b[0m\u001b[0;34m(\u001b[0m\u001b[0mflags\u001b[0m\u001b[0;34m,\u001b[0m \u001b[0mcopy\u001b[0m\u001b[0;34m=\u001b[0m\u001b[0mcopy\u001b[0m\u001b[0;34m,\u001b[0m \u001b[0mtrack\u001b[0m\u001b[0;34m=\u001b[0m\u001b[0mtrack\u001b[0m\u001b[0;34m)\u001b[0m\u001b[0;34m]\u001b[0m\u001b[0;34m\u001b[0m\u001b[0;34m\u001b[0m\u001b[0m\n\u001b[0m\u001b[1;32m    620\u001b[0m         \u001b[0;31m# have first part already, only loop while more to receive\u001b[0m\u001b[0;34m\u001b[0m\u001b[0;34m\u001b[0m\u001b[0;34m\u001b[0m\u001b[0m\n",
            "\u001b[0;32mzmq/backend/cython/socket.pyx\u001b[0m in \u001b[0;36mzmq.backend.cython.socket.Socket.recv\u001b[0;34m()\u001b[0m\n",
            "\u001b[0;32mzmq/backend/cython/socket.pyx\u001b[0m in \u001b[0;36mzmq.backend.cython.socket.Socket.recv\u001b[0;34m()\u001b[0m\n",
            "\u001b[0;32mzmq/backend/cython/socket.pyx\u001b[0m in \u001b[0;36mzmq.backend.cython.socket._recv_copy\u001b[0;34m()\u001b[0m\n",
            "\u001b[0;32m/usr/local/lib/python3.7/dist-packages/zmq/backend/cython/checkrc.pxd\u001b[0m in \u001b[0;36mzmq.backend.cython.checkrc._check_rc\u001b[0;34m()\u001b[0m\n",
            "\u001b[0;31mKeyboardInterrupt\u001b[0m: ",
            "\nDuring handling of the above exception, another exception occurred:\n",
            "\u001b[0;31mKeyboardInterrupt\u001b[0m                         Traceback (most recent call last)",
            "\u001b[0;32m<ipython-input-13-16670dfcfdf0>\u001b[0m in \u001b[0;36m<module>\u001b[0;34m()\u001b[0m\n\u001b[1;32m     42\u001b[0m   \u001b[0;32melse\u001b[0m\u001b[0;34m:\u001b[0m\u001b[0;34m\u001b[0m\u001b[0;34m\u001b[0m\u001b[0m\n\u001b[1;32m     43\u001b[0m     \u001b[0mprint\u001b[0m\u001b[0;34m(\u001b[0m\u001b[0;34m\"Invalid Choice! ...\"\u001b[0m\u001b[0;34m)\u001b[0m\u001b[0;34m\u001b[0m\u001b[0;34m\u001b[0m\u001b[0m\n\u001b[0;32m---> 44\u001b[0;31m \u001b[0mmenu\u001b[0m\u001b[0;34m(\u001b[0m\u001b[0;34m)\u001b[0m\u001b[0;34m\u001b[0m\u001b[0;34m\u001b[0m\u001b[0m\n\u001b[0m",
            "\u001b[0;32m<ipython-input-13-16670dfcfdf0>\u001b[0m in \u001b[0;36mmenu\u001b[0;34m()\u001b[0m\n\u001b[1;32m     23\u001b[0m \u001b[0;32mdef\u001b[0m \u001b[0mmenu\u001b[0m\u001b[0;34m(\u001b[0m\u001b[0;34m)\u001b[0m\u001b[0;34m:\u001b[0m\u001b[0;34m\u001b[0m\u001b[0;34m\u001b[0m\u001b[0m\n\u001b[1;32m     24\u001b[0m   \u001b[0mprint\u001b[0m\u001b[0;34m(\u001b[0m\u001b[0;34m\" 1.Deposit\\t 2.Withdraw\\t 3.Check Balance\\t 4.View Account Details\"\u001b[0m\u001b[0;34m)\u001b[0m\u001b[0;34m\u001b[0m\u001b[0;34m\u001b[0m\u001b[0m\n\u001b[0;32m---> 25\u001b[0;31m   \u001b[0mc\u001b[0m \u001b[0;34m=\u001b[0m \u001b[0mint\u001b[0m\u001b[0;34m(\u001b[0m\u001b[0minput\u001b[0m\u001b[0;34m(\u001b[0m\u001b[0;34m\"Enter your choice :\"\u001b[0m\u001b[0;34m)\u001b[0m\u001b[0;34m)\u001b[0m\u001b[0;34m\u001b[0m\u001b[0;34m\u001b[0m\u001b[0m\n\u001b[0m\u001b[1;32m     26\u001b[0m   \u001b[0;32mif\u001b[0m \u001b[0mc\u001b[0m\u001b[0;34m==\u001b[0m\u001b[0;36m1\u001b[0m\u001b[0;34m:\u001b[0m\u001b[0;34m\u001b[0m\u001b[0;34m\u001b[0m\u001b[0m\n\u001b[1;32m     27\u001b[0m     \u001b[0mclient\u001b[0m\u001b[0;34m.\u001b[0m\u001b[0mDeposit\u001b[0m\u001b[0;34m(\u001b[0m\u001b[0;34m)\u001b[0m\u001b[0;34m\u001b[0m\u001b[0;34m\u001b[0m\u001b[0m\n",
            "\u001b[0;32m/usr/local/lib/python3.7/dist-packages/ipykernel/kernelbase.py\u001b[0m in \u001b[0;36mraw_input\u001b[0;34m(self, prompt)\u001b[0m\n\u001b[1;32m    702\u001b[0m             \u001b[0mself\u001b[0m\u001b[0;34m.\u001b[0m\u001b[0m_parent_ident\u001b[0m\u001b[0;34m,\u001b[0m\u001b[0;34m\u001b[0m\u001b[0;34m\u001b[0m\u001b[0m\n\u001b[1;32m    703\u001b[0m             \u001b[0mself\u001b[0m\u001b[0;34m.\u001b[0m\u001b[0m_parent_header\u001b[0m\u001b[0;34m,\u001b[0m\u001b[0;34m\u001b[0m\u001b[0;34m\u001b[0m\u001b[0m\n\u001b[0;32m--> 704\u001b[0;31m             \u001b[0mpassword\u001b[0m\u001b[0;34m=\u001b[0m\u001b[0;32mFalse\u001b[0m\u001b[0;34m,\u001b[0m\u001b[0;34m\u001b[0m\u001b[0;34m\u001b[0m\u001b[0m\n\u001b[0m\u001b[1;32m    705\u001b[0m         )\n\u001b[1;32m    706\u001b[0m \u001b[0;34m\u001b[0m\u001b[0m\n",
            "\u001b[0;32m/usr/local/lib/python3.7/dist-packages/ipykernel/kernelbase.py\u001b[0m in \u001b[0;36m_input_request\u001b[0;34m(self, prompt, ident, parent, password)\u001b[0m\n\u001b[1;32m    732\u001b[0m             \u001b[0;32mexcept\u001b[0m \u001b[0mKeyboardInterrupt\u001b[0m\u001b[0;34m:\u001b[0m\u001b[0;34m\u001b[0m\u001b[0;34m\u001b[0m\u001b[0m\n\u001b[1;32m    733\u001b[0m                 \u001b[0;31m# re-raise KeyboardInterrupt, to truncate traceback\u001b[0m\u001b[0;34m\u001b[0m\u001b[0;34m\u001b[0m\u001b[0;34m\u001b[0m\u001b[0m\n\u001b[0;32m--> 734\u001b[0;31m                 \u001b[0;32mraise\u001b[0m \u001b[0mKeyboardInterrupt\u001b[0m\u001b[0;34m\u001b[0m\u001b[0;34m\u001b[0m\u001b[0m\n\u001b[0m\u001b[1;32m    735\u001b[0m             \u001b[0;32melse\u001b[0m\u001b[0;34m:\u001b[0m\u001b[0;34m\u001b[0m\u001b[0;34m\u001b[0m\u001b[0m\n\u001b[1;32m    736\u001b[0m                 \u001b[0;32mbreak\u001b[0m\u001b[0;34m\u001b[0m\u001b[0;34m\u001b[0m\u001b[0m\n",
            "\u001b[0;31mKeyboardInterrupt\u001b[0m: "
          ]
        }
      ]
    },
    {
      "cell_type": "markdown",
      "metadata": {
        "id": "nIpERFaPdtPV"
      },
      "source": [
        "4) Write a python program to store and display the student name, USN, and marks of a student. Use the list to store the marks of a student in three subjects."
      ]
    },
    {
      "cell_type": "code",
      "metadata": {
        "id": "m2lP3ReLEmpI",
        "colab": {
          "base_uri": "https://localhost:8080/"
        },
        "outputId": "7e301bfa-fd74-4030-af5f-053e0a9f1016"
      },
      "source": [
        "class student:\n",
        "  name = \"\"\n",
        "  USN = 0\n",
        "  marks = []\n",
        "  def __init__(self):\n",
        "    self.name = input(\"Enter name : \")\n",
        "    self.USN = input(\"Enter USN : \")\n",
        "    for i in range(1,4):\n",
        "      self.marks.append(int(input(\"Mark \"+ str(i)+ \":\")))\n",
        "  def display(self):\n",
        "    print(\" Name :\", self.name, \"\\tUSN :\", self.USN, \"\\tMarks :\", self.marks)\n",
        "s = student()\n",
        "s.display()"
      ],
      "execution_count": 15,
      "outputs": [
        {
          "output_type": "stream",
          "name": "stdout",
          "text": [
            "Enter name : ashis\n",
            "Enter USN : 45\n",
            "Mark 1:56\n",
            "Mark 2:78\n",
            "Mark 3:98\n",
            " Name : ashis \tUSN : 45 \tMarks : [56, 78, 98]\n"
          ]
        }
      ]
    },
    {
      "cell_type": "markdown",
      "metadata": {
        "id": "uh8pHOpiL8YN"
      },
      "source": [
        "5. A hospital wants to create a database regarding covid-19 patients. The information to store include:\n",
        "* Name of the patient\n",
        "* Date of admission\n",
        "* List of symptoms\n",
        "* Oxygen level\n",
        "* Date of discharge\n",
        "\n",
        "Note: If the oxygen level is less than 90, then the patient is put on oxygen support else moved to the general ward for observation.\n",
        "\n",
        "Create a class to store the above information. The member function should include a function to enter patient’s information, check the severity, display the number of patients required oxygen support, number of patients in the general ward for observation, and the total number of patients admitted."
      ]
    },
    {
      "cell_type": "markdown",
      "metadata": {
        "id": "pFtp62Y6r5-T"
      },
      "source": [
        ""
      ]
    },
    {
      "cell_type": "code",
      "metadata": {
        "colab": {
          "base_uri": "https://localhost:8080/",
          "height": 528
        },
        "id": "r46UCHpjM6rL",
        "outputId": "cf3c33dd-984a-4843-d6b5-ef186566f991"
      },
      "source": [
        "\n",
        "class patient:\n",
        "  symptoms = []\n",
        "  severe = 0\n",
        "  n = 0\n",
        "  def symp(self):\n",
        "      patient.symptoms.append(input(\"Enter symptoms : \"))\n",
        "      a = int(input(\"Any more symptoms?\\t 1. Yes\\t 2. No\\t Enter your choice : \"))\n",
        "      if a==1:\n",
        "        self.symp()\n",
        "  def __init__(self):\n",
        "    patient.n = patient.n+1\n",
        "    self.name = input(\"Enter name : \")\n",
        "    self.admdate = input(\"Enter date of admission : \")\n",
        "    self.symp()\n",
        "    self.oxygen = int(input(\"Enter oxygen level : \"))\n",
        "    if self.oxygen < 90:\n",
        "      print(\"Needs oxygen support !\")\n",
        "      patient.severe = patient.severe + 1\n",
        "    else:\n",
        "      print(\"Move to general ward for observation\")\n",
        "    self.disdate = input(\"Enter date of discharge : \")\n",
        "  def display():\n",
        "      print(\" No. of patients required oxygen support :\", patient.severe, \"\\t No. of patients in general ward for observation :\", patient.n-patient.severe, \"\\t Total no. of patients admitted :\",patient.n)\n",
        "p1 = patient()\n",
        "p2 = patient()\n",
        "patient.display()"
      ],
      "execution_count": 22,
      "outputs": [
        {
          "output_type": "error",
          "ename": "KeyboardInterrupt",
          "evalue": "ignored",
          "traceback": [
            "\u001b[0;31m---------------------------------------------------------------------------\u001b[0m",
            "\u001b[0;31mKeyboardInterrupt\u001b[0m                         Traceback (most recent call last)",
            "\u001b[0;32m/usr/local/lib/python3.7/dist-packages/ipykernel/kernelbase.py\u001b[0m in \u001b[0;36m_input_request\u001b[0;34m(self, prompt, ident, parent, password)\u001b[0m\n\u001b[1;32m    728\u001b[0m             \u001b[0;32mtry\u001b[0m\u001b[0;34m:\u001b[0m\u001b[0;34m\u001b[0m\u001b[0;34m\u001b[0m\u001b[0m\n\u001b[0;32m--> 729\u001b[0;31m                 \u001b[0mident\u001b[0m\u001b[0;34m,\u001b[0m \u001b[0mreply\u001b[0m \u001b[0;34m=\u001b[0m \u001b[0mself\u001b[0m\u001b[0;34m.\u001b[0m\u001b[0msession\u001b[0m\u001b[0;34m.\u001b[0m\u001b[0mrecv\u001b[0m\u001b[0;34m(\u001b[0m\u001b[0mself\u001b[0m\u001b[0;34m.\u001b[0m\u001b[0mstdin_socket\u001b[0m\u001b[0;34m,\u001b[0m \u001b[0;36m0\u001b[0m\u001b[0;34m)\u001b[0m\u001b[0;34m\u001b[0m\u001b[0;34m\u001b[0m\u001b[0m\n\u001b[0m\u001b[1;32m    730\u001b[0m             \u001b[0;32mexcept\u001b[0m \u001b[0mException\u001b[0m\u001b[0;34m:\u001b[0m\u001b[0;34m\u001b[0m\u001b[0;34m\u001b[0m\u001b[0m\n",
            "\u001b[0;32m/usr/local/lib/python3.7/dist-packages/jupyter_client/session.py\u001b[0m in \u001b[0;36mrecv\u001b[0;34m(self, socket, mode, content, copy)\u001b[0m\n\u001b[1;32m    802\u001b[0m         \u001b[0;32mtry\u001b[0m\u001b[0;34m:\u001b[0m\u001b[0;34m\u001b[0m\u001b[0;34m\u001b[0m\u001b[0m\n\u001b[0;32m--> 803\u001b[0;31m             \u001b[0mmsg_list\u001b[0m \u001b[0;34m=\u001b[0m \u001b[0msocket\u001b[0m\u001b[0;34m.\u001b[0m\u001b[0mrecv_multipart\u001b[0m\u001b[0;34m(\u001b[0m\u001b[0mmode\u001b[0m\u001b[0;34m,\u001b[0m \u001b[0mcopy\u001b[0m\u001b[0;34m=\u001b[0m\u001b[0mcopy\u001b[0m\u001b[0;34m)\u001b[0m\u001b[0;34m\u001b[0m\u001b[0;34m\u001b[0m\u001b[0m\n\u001b[0m\u001b[1;32m    804\u001b[0m         \u001b[0;32mexcept\u001b[0m \u001b[0mzmq\u001b[0m\u001b[0;34m.\u001b[0m\u001b[0mZMQError\u001b[0m \u001b[0;32mas\u001b[0m \u001b[0me\u001b[0m\u001b[0;34m:\u001b[0m\u001b[0;34m\u001b[0m\u001b[0;34m\u001b[0m\u001b[0m\n",
            "\u001b[0;32m/usr/local/lib/python3.7/dist-packages/zmq/sugar/socket.py\u001b[0m in \u001b[0;36mrecv_multipart\u001b[0;34m(self, flags, copy, track)\u001b[0m\n\u001b[1;32m    618\u001b[0m         \"\"\"\n\u001b[0;32m--> 619\u001b[0;31m         \u001b[0mparts\u001b[0m \u001b[0;34m=\u001b[0m \u001b[0;34m[\u001b[0m\u001b[0mself\u001b[0m\u001b[0;34m.\u001b[0m\u001b[0mrecv\u001b[0m\u001b[0;34m(\u001b[0m\u001b[0mflags\u001b[0m\u001b[0;34m,\u001b[0m \u001b[0mcopy\u001b[0m\u001b[0;34m=\u001b[0m\u001b[0mcopy\u001b[0m\u001b[0;34m,\u001b[0m \u001b[0mtrack\u001b[0m\u001b[0;34m=\u001b[0m\u001b[0mtrack\u001b[0m\u001b[0;34m)\u001b[0m\u001b[0;34m]\u001b[0m\u001b[0;34m\u001b[0m\u001b[0;34m\u001b[0m\u001b[0m\n\u001b[0m\u001b[1;32m    620\u001b[0m         \u001b[0;31m# have first part already, only loop while more to receive\u001b[0m\u001b[0;34m\u001b[0m\u001b[0;34m\u001b[0m\u001b[0;34m\u001b[0m\u001b[0m\n",
            "\u001b[0;32mzmq/backend/cython/socket.pyx\u001b[0m in \u001b[0;36mzmq.backend.cython.socket.Socket.recv\u001b[0;34m()\u001b[0m\n",
            "\u001b[0;32mzmq/backend/cython/socket.pyx\u001b[0m in \u001b[0;36mzmq.backend.cython.socket.Socket.recv\u001b[0;34m()\u001b[0m\n",
            "\u001b[0;32mzmq/backend/cython/socket.pyx\u001b[0m in \u001b[0;36mzmq.backend.cython.socket._recv_copy\u001b[0;34m()\u001b[0m\n",
            "\u001b[0;32m/usr/local/lib/python3.7/dist-packages/zmq/backend/cython/checkrc.pxd\u001b[0m in \u001b[0;36mzmq.backend.cython.checkrc._check_rc\u001b[0;34m()\u001b[0m\n",
            "\u001b[0;31mKeyboardInterrupt\u001b[0m: ",
            "\nDuring handling of the above exception, another exception occurred:\n",
            "\u001b[0;31mKeyboardInterrupt\u001b[0m                         Traceback (most recent call last)",
            "\u001b[0;32m<ipython-input-22-a031aebe4812>\u001b[0m in \u001b[0;36m<module>\u001b[0;34m()\u001b[0m\n\u001b[1;32m     23\u001b[0m   \u001b[0;32mdef\u001b[0m \u001b[0mdisplay\u001b[0m\u001b[0;34m(\u001b[0m\u001b[0;34m)\u001b[0m\u001b[0;34m:\u001b[0m\u001b[0;34m\u001b[0m\u001b[0;34m\u001b[0m\u001b[0m\n\u001b[1;32m     24\u001b[0m       \u001b[0mprint\u001b[0m\u001b[0;34m(\u001b[0m\u001b[0;34m\" No. of patients required oxygen support :\"\u001b[0m\u001b[0;34m,\u001b[0m \u001b[0mpatient\u001b[0m\u001b[0;34m.\u001b[0m\u001b[0msevere\u001b[0m\u001b[0;34m,\u001b[0m \u001b[0;34m\"\\t No. of patients in general ward for observation :\"\u001b[0m\u001b[0;34m,\u001b[0m \u001b[0mpatient\u001b[0m\u001b[0;34m.\u001b[0m\u001b[0mn\u001b[0m\u001b[0;34m-\u001b[0m\u001b[0mpatient\u001b[0m\u001b[0;34m.\u001b[0m\u001b[0msevere\u001b[0m\u001b[0;34m,\u001b[0m \u001b[0;34m\"\\t Total no. of patients admitted :\"\u001b[0m\u001b[0;34m,\u001b[0m\u001b[0mpatient\u001b[0m\u001b[0;34m.\u001b[0m\u001b[0mn\u001b[0m\u001b[0;34m)\u001b[0m\u001b[0;34m\u001b[0m\u001b[0;34m\u001b[0m\u001b[0m\n\u001b[0;32m---> 25\u001b[0;31m \u001b[0mp1\u001b[0m \u001b[0;34m=\u001b[0m \u001b[0mpatient\u001b[0m\u001b[0;34m(\u001b[0m\u001b[0;34m)\u001b[0m\u001b[0;34m\u001b[0m\u001b[0;34m\u001b[0m\u001b[0m\n\u001b[0m\u001b[1;32m     26\u001b[0m \u001b[0mp2\u001b[0m \u001b[0;34m=\u001b[0m \u001b[0mpatient\u001b[0m\u001b[0;34m(\u001b[0m\u001b[0;34m)\u001b[0m\u001b[0;34m\u001b[0m\u001b[0;34m\u001b[0m\u001b[0m\n\u001b[1;32m     27\u001b[0m \u001b[0mpatient\u001b[0m\u001b[0;34m.\u001b[0m\u001b[0mdisplay\u001b[0m\u001b[0;34m(\u001b[0m\u001b[0;34m)\u001b[0m\u001b[0;34m\u001b[0m\u001b[0;34m\u001b[0m\u001b[0m\n",
            "\u001b[0;32m<ipython-input-22-a031aebe4812>\u001b[0m in \u001b[0;36m__init__\u001b[0;34m(self)\u001b[0m\n\u001b[1;32m     11\u001b[0m   \u001b[0;32mdef\u001b[0m \u001b[0m__init__\u001b[0m\u001b[0;34m(\u001b[0m\u001b[0mself\u001b[0m\u001b[0;34m)\u001b[0m\u001b[0;34m:\u001b[0m\u001b[0;34m\u001b[0m\u001b[0;34m\u001b[0m\u001b[0m\n\u001b[1;32m     12\u001b[0m     \u001b[0mpatient\u001b[0m\u001b[0;34m.\u001b[0m\u001b[0mn\u001b[0m \u001b[0;34m=\u001b[0m \u001b[0mpatient\u001b[0m\u001b[0;34m.\u001b[0m\u001b[0mn\u001b[0m\u001b[0;34m+\u001b[0m\u001b[0;36m1\u001b[0m\u001b[0;34m\u001b[0m\u001b[0;34m\u001b[0m\u001b[0m\n\u001b[0;32m---> 13\u001b[0;31m     \u001b[0mself\u001b[0m\u001b[0;34m.\u001b[0m\u001b[0mname\u001b[0m \u001b[0;34m=\u001b[0m \u001b[0minput\u001b[0m\u001b[0;34m(\u001b[0m\u001b[0;34m\"Enter name : \"\u001b[0m\u001b[0;34m)\u001b[0m\u001b[0;34m\u001b[0m\u001b[0;34m\u001b[0m\u001b[0m\n\u001b[0m\u001b[1;32m     14\u001b[0m     \u001b[0mself\u001b[0m\u001b[0;34m.\u001b[0m\u001b[0madmdate\u001b[0m \u001b[0;34m=\u001b[0m \u001b[0minput\u001b[0m\u001b[0;34m(\u001b[0m\u001b[0;34m\"Enter date of admission : \"\u001b[0m\u001b[0;34m)\u001b[0m\u001b[0;34m\u001b[0m\u001b[0;34m\u001b[0m\u001b[0m\n\u001b[1;32m     15\u001b[0m     \u001b[0mself\u001b[0m\u001b[0;34m.\u001b[0m\u001b[0msymp\u001b[0m\u001b[0;34m(\u001b[0m\u001b[0;34m)\u001b[0m\u001b[0;34m\u001b[0m\u001b[0;34m\u001b[0m\u001b[0m\n",
            "\u001b[0;32m/usr/local/lib/python3.7/dist-packages/ipykernel/kernelbase.py\u001b[0m in \u001b[0;36mraw_input\u001b[0;34m(self, prompt)\u001b[0m\n\u001b[1;32m    702\u001b[0m             \u001b[0mself\u001b[0m\u001b[0;34m.\u001b[0m\u001b[0m_parent_ident\u001b[0m\u001b[0;34m,\u001b[0m\u001b[0;34m\u001b[0m\u001b[0;34m\u001b[0m\u001b[0m\n\u001b[1;32m    703\u001b[0m             \u001b[0mself\u001b[0m\u001b[0;34m.\u001b[0m\u001b[0m_parent_header\u001b[0m\u001b[0;34m,\u001b[0m\u001b[0;34m\u001b[0m\u001b[0;34m\u001b[0m\u001b[0m\n\u001b[0;32m--> 704\u001b[0;31m             \u001b[0mpassword\u001b[0m\u001b[0;34m=\u001b[0m\u001b[0;32mFalse\u001b[0m\u001b[0;34m,\u001b[0m\u001b[0;34m\u001b[0m\u001b[0;34m\u001b[0m\u001b[0m\n\u001b[0m\u001b[1;32m    705\u001b[0m         )\n\u001b[1;32m    706\u001b[0m \u001b[0;34m\u001b[0m\u001b[0m\n",
            "\u001b[0;32m/usr/local/lib/python3.7/dist-packages/ipykernel/kernelbase.py\u001b[0m in \u001b[0;36m_input_request\u001b[0;34m(self, prompt, ident, parent, password)\u001b[0m\n\u001b[1;32m    732\u001b[0m             \u001b[0;32mexcept\u001b[0m \u001b[0mKeyboardInterrupt\u001b[0m\u001b[0;34m:\u001b[0m\u001b[0;34m\u001b[0m\u001b[0;34m\u001b[0m\u001b[0m\n\u001b[1;32m    733\u001b[0m                 \u001b[0;31m# re-raise KeyboardInterrupt, to truncate traceback\u001b[0m\u001b[0;34m\u001b[0m\u001b[0;34m\u001b[0m\u001b[0;34m\u001b[0m\u001b[0m\n\u001b[0;32m--> 734\u001b[0;31m                 \u001b[0;32mraise\u001b[0m \u001b[0mKeyboardInterrupt\u001b[0m\u001b[0;34m\u001b[0m\u001b[0;34m\u001b[0m\u001b[0m\n\u001b[0m\u001b[1;32m    735\u001b[0m             \u001b[0;32melse\u001b[0m\u001b[0;34m:\u001b[0m\u001b[0;34m\u001b[0m\u001b[0;34m\u001b[0m\u001b[0m\n\u001b[1;32m    736\u001b[0m                 \u001b[0;32mbreak\u001b[0m\u001b[0;34m\u001b[0m\u001b[0;34m\u001b[0m\u001b[0m\n",
            "\u001b[0;31mKeyboardInterrupt\u001b[0m: "
          ]
        }
      ]
    },
    {
      "cell_type": "markdown",
      "metadata": {
        "id": "NxN4QMBnslYb"
      },
      "source": [
        "6) Create a Class time that has separate int member data for hours, minutes, and seconds. One constructor should initialize this data to 0 and another should initialize it to fixed values. Another member function should display it in hh:mm: ss format."
      ]
    },
    {
      "cell_type": "code",
      "metadata": {
        "id": "J7bv8eafta-I"
      },
      "source": [
        "class time:\n",
        "  def __init__(self):\n",
        "    self.hour = 0\n",
        "    self.minutes = 0\n",
        "    self.seconds = 0\n",
        "  def __init__(self,hh,mm,ss):\n",
        "    self.hh = hh\n",
        "    self.mm = mm\n",
        "    self.ss = ss\n",
        "  def disp(self):\n",
        "    print(self.hh,\":\",self.mm,\":\",self.ss)\n",
        "t1 = time(10,20,30)\n",
        "t2 = time(11,37,00)\n",
        "t1.disp()\n",
        "t2.disp()"
      ],
      "execution_count": null,
      "outputs": []
    },
    {
      "cell_type": "markdown",
      "metadata": {
        "id": "TKYq1XBetY9S"
      },
      "source": [
        "7) Create a class to store the details of two students:\n",
        "\n",
        "std1(Name= Rahul, Age =21, Roll no=33)\n",
        "\n",
        "std2( Name = Rohit, Age=22, Roll no = 74)\n",
        "\n",
        "Write a function to compare the age of both the students, print whether they are equal or not equal\n",
        "\n"
      ]
    },
    {
      "cell_type": "code",
      "metadata": {
        "colab": {
          "base_uri": "https://localhost:8080/"
        },
        "id": "dejDnkvU3EYL",
        "outputId": "b34f0dfb-89b2-4fe5-db60-1600268374fe"
      },
      "source": [
        "class student:\n",
        "  name = \"\"\n",
        "  age = 0\n",
        "  rollno = 0\n",
        "  def __init__(self, name, age, rno):\n",
        "    self.name = name\n",
        "    self.age = age\n",
        "    self.rollno = rno\n",
        "def cmpage(s1,s2):\n",
        "  if s1.age == s2.age:\n",
        "    print(\"Equal\")\n",
        "  else:\n",
        "    print(\"Not equal\")\n",
        "std1 = student(\"Rahul\", 21, 33)\n",
        "std2 = student(\"Rohit\", 22, 74)\n",
        "cmpage(std1,std2)"
      ],
      "execution_count": 21,
      "outputs": [
        {
          "output_type": "stream",
          "name": "stdout",
          "text": [
            "Not equal\n"
          ]
        }
      ]
    },
    {
      "cell_type": "markdown",
      "metadata": {
        "id": "dLiJa9a-t_a2"
      },
      "source": [
        "8) Create an instance of a class to store student details such as Sem, Institute, Name, and usn where:\n",
        "Sem and Institute details should be class variables\n",
        "Name and usn should be instance variables.\n",
        "And also, print the instance variable using the instance method and class variable using the class method, also use a static method to print an explanation about the class.\n",
        "\n"
      ]
    },
    {
      "cell_type": "code",
      "metadata": {
        "id": "NejIdX8muC8l"
      },
      "source": [
        ""
      ],
      "execution_count": null,
      "outputs": []
    },
    {
      "cell_type": "markdown",
      "metadata": {
        "id": "d_VQOnRJuS-v"
      },
      "source": [
        "9) Write a python program to create a student class with the variable Name, Roll no, and Sem, also the student is having a laptop create an instance of an inner class laptop with variable cpu, Ram, and hard disk and display details. Also, create multiple objects for the inner class laptop.\n",
        "[ ]\n"
      ]
    },
    {
      "cell_type": "code",
      "metadata": {
        "id": "Fub8dnqOuX3u"
      },
      "source": [
        "class student:\n",
        "  class laptop:\n",
        "    def __init__(self):\n",
        "      self.cpu = input(\"Enter the name of CPU manufacturer : \")\n",
        "      self.ram = int(input(\"Enter the amount of RAM storage(in GB) : \"))\n",
        "      self.hard_disk = int(input(\"Enter the capacity of hard disk(in GB) : \"))\n",
        "    def disp(self):\n",
        "      print(\" Details of Laptop:-\\n Cpu manufacturer :\", self.cpu, \"\\n RAM :\", self.ram, \"\\n Hard Disk capacity :\", self.hard_disk)\n",
        "  def __init__(self):\n",
        "    self.name = input(\"Enter name : \")\n",
        "    self.rno  = input(\"Enter Roll No. : \")\n",
        "    self.sem = input(\"Enter semester : \")\n",
        "  def disp(self):\n",
        "    print(\"\\n Name of the student :\",self.name,\"\\n Roll no. :\",self.rno, \"\\n Semester :\", self.sem)\n",
        "s1 = student()\n",
        "l1 = student.laptop()\n",
        "s2 = student()\n",
        "l2 = student.laptop()\n",
        "s1.disp()\n",
        "l1.disp()\n",
        "s2.disp()\n",
        "l2.disp()"
      ],
      "execution_count": null,
      "outputs": []
    }
  ]
}